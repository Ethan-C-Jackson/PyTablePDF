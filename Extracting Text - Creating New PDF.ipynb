{
 "cells": [
  {
   "cell_type": "code",
   "execution_count": 13,
   "metadata": {},
   "outputs": [
    {
     "name": "stdout",
     "output_type": "stream",
     "text": [
      "New PDF created at output1.pdf\n"
     ]
    }
   ],
   "source": [
    "import fitz  # PyMuPDF\n",
    "from reportlab.pdfgen import canvas\n",
    "from reportlab.lib.pagesizes import letter\n",
    "\n",
    "# Function to extract text with coordinates using PyMuPDF\n",
    "def extract_text_with_coordinates(pdf_path):\n",
    "    doc = fitz.open(pdf_path)\n",
    "    data = []\n",
    "    for page_num in range(len(doc)):\n",
    "        page = doc.load_page(page_num)\n",
    "        blocks = page.get_text(\"dict\")[\"blocks\"]\n",
    "        for block in blocks:\n",
    "            for line in block[\"lines\"]:\n",
    "                for span in line[\"spans\"]:\n",
    "                    x0, y0, x1, y1 = span[\"bbox\"]\n",
    "                    text = span[\"text\"]\n",
    "                    font_size = span[\"size\"]\n",
    "                    data.append((x0, y0, x1, y1, text, font_size, page_num))\n",
    "    return data\n",
    "\n",
    "# Function to create a new PDF with extracted text and coordinates\n",
    "def create_pdf_with_text_coordinates(output_path, text_data, page_size=letter):\n",
    "    c = canvas.Canvas(output_path, pagesize=page_size)\n",
    "    current_page = 0\n",
    "    for x0, y0, x1, y1, text, font_size, page_num in text_data:\n",
    "        if page_num != current_page:\n",
    "            c.showPage()\n",
    "            current_page = page_num\n",
    "        c.setFont(\"Helvetica\", font_size)\n",
    "        c.drawString(x0, page_size[1] - y0, text)  # Adjust y-coordinate for PDF origin\n",
    "    c.save()\n",
    "\n",
    "# Paths\n",
    "input_pdf_path = \"ast_sci_data_tables_sample.pdf\"\n",
    "output_pdf_path = \"output1.pdf\"\n",
    "\n",
    "# Extract text and coordinates\n",
    "text_data = extract_text_with_coordinates(input_pdf_path)\n",
    "\n",
    "# Create a new PDF with the extracted text and coordinates\n",
    "create_pdf_with_text_coordinates(output_pdf_path, text_data)\n",
    "\n",
    "print(f\"New PDF created at {output_pdf_path}\")\n"
   ]
  }
 ],
 "metadata": {
  "kernelspec": {
   "display_name": "Python 3",
   "language": "python",
   "name": "python3"
  },
  "language_info": {
   "codemirror_mode": {
    "name": "ipython",
    "version": 3
   },
   "file_extension": ".py",
   "mimetype": "text/x-python",
   "name": "python",
   "nbconvert_exporter": "python",
   "pygments_lexer": "ipython3",
   "version": "3.12.3"
  }
 },
 "nbformat": 4,
 "nbformat_minor": 2
}
