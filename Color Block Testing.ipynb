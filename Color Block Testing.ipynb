{
 "cells": [
  {
   "cell_type": "code",
   "execution_count": 2,
   "metadata": {},
   "outputs": [],
   "source": [
    "from reportlab.lib.pagesizes import letter\n",
    "from reportlab.lib.units import inch\n",
    "from reportlab.pdfgen import canvas\n",
    "from reportlab.lib.colors import red, blue, green, yellow\n",
    "\n",
    "# Create a canvas object\n",
    "c = canvas.Canvas(\"color_blocks.pdf\", pagesize=letter)\n",
    "width, height = letter\n",
    "\n",
    "# Define the size of the color blocks\n",
    "block_width = 2 * inch\n",
    "block_height = 2 * inch\n",
    "\n",
    "# Define the positions for the blocks\n",
    "positions = [\n",
    "    (inch, height - 2 * inch),\n",
    "    (3 * inch, height - 2 * inch),\n",
    "    (5 * inch, height - 2 * inch),\n",
    "    (inch, height - 4 * inch),\n",
    "]\n",
    "\n",
    "# Define the colors for the blocks\n",
    "colors = [red, blue, green, yellow]\n",
    "\n",
    "# Draw the blocks\n",
    "for pos, color in zip(positions, colors):\n",
    "    c.setFillColor(color)\n",
    "    c.rect(pos[0], pos[1], block_width, block_height, fill=True)\n",
    "\n",
    "# Save the PDF\n",
    "c.save()\n"
   ]
  },
  {
   "cell_type": "code",
   "execution_count": 3,
   "metadata": {},
   "outputs": [],
   "source": [
    "from reportlab.lib.pagesizes import letter\n",
    "from reportlab.lib.units import inch\n",
    "from reportlab.pdfgen import canvas\n",
    "from reportlab.lib.colors import red, blue, green, yellow, black\n",
    "\n",
    "# Create a canvas object\n",
    "c = canvas.Canvas(\"color_blocks.pdf\", pagesize=letter)\n",
    "width, height = letter\n",
    "\n",
    "# Define the size of the color blocks\n",
    "block_width = 2 * inch\n",
    "block_height = 2 * inch\n",
    "\n",
    "# Define the positions for the blocks\n",
    "positions = [\n",
    "    (inch, height - 2 * inch),\n",
    "    (3 * inch, height - 2 * inch),\n",
    "    (5 * inch, height - 2 * inch),\n",
    "    (inch, height - 4 * inch),\n",
    "    (3 * inch, height - 4 * inch),\n",
    "]\n",
    "\n",
    "# Define the colors for the blocks\n",
    "colors = [red, blue, green, yellow, black]\n",
    "\n",
    "# Draw the blocks\n",
    "for pos, color in zip(positions, colors):\n",
    "    c.setFillColor(color)\n",
    "    c.rect(pos[0], pos[1], block_width, block_height, fill=True)\n",
    "\n",
    "# Save the PDF\n",
    "c.save()\n"
   ]
  }
 ],
 "metadata": {
  "kernelspec": {
   "display_name": "Python 3",
   "language": "python",
   "name": "python3"
  },
  "language_info": {
   "codemirror_mode": {
    "name": "ipython",
    "version": 3
   },
   "file_extension": ".py",
   "mimetype": "text/x-python",
   "name": "python",
   "nbconvert_exporter": "python",
   "pygments_lexer": "ipython3",
   "version": "3.12.3"
  }
 },
 "nbformat": 4,
 "nbformat_minor": 2
}
